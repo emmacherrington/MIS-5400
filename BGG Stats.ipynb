{
 "cells": [
  {
   "cell_type": "code",
   "execution_count": 1,
   "metadata": {},
   "outputs": [],
   "source": [
    "%matplotlib inline"
   ]
  },
  {
   "cell_type": "code",
   "execution_count": 197,
   "metadata": {},
   "outputs": [],
   "source": [
    "import matplotlib.pyplot as plt\n",
    "import numpy as np\n",
    "import pandas as pd\n",
    "import os\n",
    "import xmltodict\n",
    "import requests\n",
    "import json\n",
    "import pprint\n",
    "import collections"
   ]
  },
  {
   "cell_type": "code",
   "execution_count": 198,
   "metadata": {},
   "outputs": [],
   "source": [
    "response = requests.get('https://www.boardgamegeek.com/xmlapi2/hot?type=boardgame')\n",
    "if response.status_code == 200:\n",
    "    hot_parse = xmltodict.parse(response.text)\n",
    "    hot_data = hot_parse['items']['item']\n",
    "    \n",
    "daHotness = []\n",
    "\n",
    "\n",
    "for item in hot_data:\n",
    "    daHotness.append({'ID': item['@id'], 'Rank':item['@rank'], 'Name': item['name']['@value'], 'Year_Released': item['yearpublished']['@value'],\n",
    "                     'Thumbnail': item['thumbnail']['@value']})\n",
    "    \n",
    "hot_json_str = json.dumps(daHotness)"
   ]
  },
  {
   "cell_type": "code",
   "execution_count": 199,
   "metadata": {},
   "outputs": [],
   "source": [
    "hot_dataframe = pd.read_json(hot_json_str)"
   ]
  },
  {
   "cell_type": "code",
   "execution_count": 200,
   "metadata": {
    "scrolled": true
   },
   "outputs": [
    {
     "data": {
      "text/html": [
       "<div>\n",
       "<style scoped>\n",
       "    .dataframe tbody tr th:only-of-type {\n",
       "        vertical-align: middle;\n",
       "    }\n",
       "\n",
       "    .dataframe tbody tr th {\n",
       "        vertical-align: top;\n",
       "    }\n",
       "\n",
       "    .dataframe thead th {\n",
       "        text-align: right;\n",
       "    }\n",
       "</style>\n",
       "<table border=\"1\" class=\"dataframe\">\n",
       "  <thead>\n",
       "    <tr style=\"text-align: right;\">\n",
       "      <th></th>\n",
       "      <th>ID</th>\n",
       "      <th>Rank</th>\n",
       "      <th>Name</th>\n",
       "      <th>Year_Released</th>\n",
       "      <th>Thumbnail</th>\n",
       "    </tr>\n",
       "  </thead>\n",
       "  <tbody>\n",
       "    <tr>\n",
       "      <td>0</td>\n",
       "      <td>295770</td>\n",
       "      <td>1</td>\n",
       "      <td>Frosthaven</td>\n",
       "      <td>2021</td>\n",
       "      <td>https://cf.geekdo-images.com/thumb/img/P1hbRu9...</td>\n",
       "    </tr>\n",
       "    <tr>\n",
       "      <td>1</td>\n",
       "      <td>264220</td>\n",
       "      <td>2</td>\n",
       "      <td>Tainted Grail: The Fall of Avalon</td>\n",
       "      <td>2019</td>\n",
       "      <td>https://cf.geekdo-images.com/thumb/img/Zbr3ml_...</td>\n",
       "    </tr>\n",
       "    <tr>\n",
       "      <td>2</td>\n",
       "      <td>174430</td>\n",
       "      <td>3</td>\n",
       "      <td>Gloomhaven</td>\n",
       "      <td>2017</td>\n",
       "      <td>https://cf.geekdo-images.com/thumb/img/e7GyV4P...</td>\n",
       "    </tr>\n",
       "    <tr>\n",
       "      <td>3</td>\n",
       "      <td>167791</td>\n",
       "      <td>4</td>\n",
       "      <td>Terraforming Mars</td>\n",
       "      <td>2016</td>\n",
       "      <td>https://cf.geekdo-images.com/thumb/img/yFqQ569...</td>\n",
       "    </tr>\n",
       "    <tr>\n",
       "      <td>4</td>\n",
       "      <td>285774</td>\n",
       "      <td>5</td>\n",
       "      <td>Marvel Champions: The Card Game</td>\n",
       "      <td>2019</td>\n",
       "      <td>https://cf.geekdo-images.com/thumb/img/aiWh4Ib...</td>\n",
       "    </tr>\n",
       "  </tbody>\n",
       "</table>\n",
       "</div>"
      ],
      "text/plain": [
       "       ID  Rank                               Name  Year_Released  \\\n",
       "0  295770     1                         Frosthaven           2021   \n",
       "1  264220     2  Tainted Grail: The Fall of Avalon           2019   \n",
       "2  174430     3                         Gloomhaven           2017   \n",
       "3  167791     4                  Terraforming Mars           2016   \n",
       "4  285774     5    Marvel Champions: The Card Game           2019   \n",
       "\n",
       "                                           Thumbnail  \n",
       "0  https://cf.geekdo-images.com/thumb/img/P1hbRu9...  \n",
       "1  https://cf.geekdo-images.com/thumb/img/Zbr3ml_...  \n",
       "2  https://cf.geekdo-images.com/thumb/img/e7GyV4P...  \n",
       "3  https://cf.geekdo-images.com/thumb/img/yFqQ569...  \n",
       "4  https://cf.geekdo-images.com/thumb/img/aiWh4Ib...  "
      ]
     },
     "execution_count": 200,
     "metadata": {},
     "output_type": "execute_result"
    }
   ],
   "source": [
    "hot_dataframe.head()"
   ]
  },
  {
   "cell_type": "code",
   "execution_count": 201,
   "metadata": {},
   "outputs": [
    {
     "data": {
      "text/html": [
       "<div>\n",
       "<style scoped>\n",
       "    .dataframe tbody tr th:only-of-type {\n",
       "        vertical-align: middle;\n",
       "    }\n",
       "\n",
       "    .dataframe tbody tr th {\n",
       "        vertical-align: top;\n",
       "    }\n",
       "\n",
       "    .dataframe thead th {\n",
       "        text-align: right;\n",
       "    }\n",
       "</style>\n",
       "<table border=\"1\" class=\"dataframe\">\n",
       "  <thead>\n",
       "    <tr style=\"text-align: right;\">\n",
       "      <th></th>\n",
       "      <th>ID</th>\n",
       "      <th>Rank</th>\n",
       "      <th>Year_Released</th>\n",
       "    </tr>\n",
       "  </thead>\n",
       "  <tbody>\n",
       "    <tr>\n",
       "      <td>count</td>\n",
       "      <td>50.000000</td>\n",
       "      <td>50.00000</td>\n",
       "      <td>50.000000</td>\n",
       "    </tr>\n",
       "    <tr>\n",
       "      <td>mean</td>\n",
       "      <td>220029.920000</td>\n",
       "      <td>25.50000</td>\n",
       "      <td>2017.280000</td>\n",
       "    </tr>\n",
       "    <tr>\n",
       "      <td>std</td>\n",
       "      <td>58778.039235</td>\n",
       "      <td>14.57738</td>\n",
       "      <td>2.166913</td>\n",
       "    </tr>\n",
       "    <tr>\n",
       "      <td>min</td>\n",
       "      <td>55690.000000</td>\n",
       "      <td>1.00000</td>\n",
       "      <td>2010.000000</td>\n",
       "    </tr>\n",
       "    <tr>\n",
       "      <td>25%</td>\n",
       "      <td>180704.250000</td>\n",
       "      <td>13.25000</td>\n",
       "      <td>2016.000000</td>\n",
       "    </tr>\n",
       "    <tr>\n",
       "      <td>50%</td>\n",
       "      <td>234767.500000</td>\n",
       "      <td>25.50000</td>\n",
       "      <td>2018.000000</td>\n",
       "    </tr>\n",
       "    <tr>\n",
       "      <td>75%</td>\n",
       "      <td>266519.750000</td>\n",
       "      <td>37.75000</td>\n",
       "      <td>2019.000000</td>\n",
       "    </tr>\n",
       "    <tr>\n",
       "      <td>max</td>\n",
       "      <td>295770.000000</td>\n",
       "      <td>50.00000</td>\n",
       "      <td>2021.000000</td>\n",
       "    </tr>\n",
       "  </tbody>\n",
       "</table>\n",
       "</div>"
      ],
      "text/plain": [
       "                  ID      Rank  Year_Released\n",
       "count      50.000000  50.00000      50.000000\n",
       "mean   220029.920000  25.50000    2017.280000\n",
       "std     58778.039235  14.57738       2.166913\n",
       "min     55690.000000   1.00000    2010.000000\n",
       "25%    180704.250000  13.25000    2016.000000\n",
       "50%    234767.500000  25.50000    2018.000000\n",
       "75%    266519.750000  37.75000    2019.000000\n",
       "max    295770.000000  50.00000    2021.000000"
      ]
     },
     "execution_count": 201,
     "metadata": {},
     "output_type": "execute_result"
    }
   ],
   "source": [
    "hot_dataframe.describe()"
   ]
  },
  {
   "cell_type": "code",
   "execution_count": 202,
   "metadata": {},
   "outputs": [],
   "source": [
    "bgg = pd.read_json(r'http://127.0.0.1:5000/api/v1/games')"
   ]
  },
  {
   "cell_type": "code",
   "execution_count": 203,
   "metadata": {
    "scrolled": true
   },
   "outputs": [
    {
     "data": {
      "text/html": [
       "<div>\n",
       "<style scoped>\n",
       "    .dataframe tbody tr th:only-of-type {\n",
       "        vertical-align: middle;\n",
       "    }\n",
       "\n",
       "    .dataframe tbody tr th {\n",
       "        vertical-align: top;\n",
       "    }\n",
       "\n",
       "    .dataframe thead th {\n",
       "        text-align: right;\n",
       "    }\n",
       "</style>\n",
       "<table border=\"1\" class=\"dataframe\">\n",
       "  <thead>\n",
       "    <tr style=\"text-align: right;\">\n",
       "      <th></th>\n",
       "      <th>_id</th>\n",
       "      <th>id</th>\n",
       "      <th>username</th>\n",
       "      <th>name</th>\n",
       "      <th>rating</th>\n",
       "      <th>minplayers</th>\n",
       "      <th>maxplayers</th>\n",
       "      <th>minplaytime</th>\n",
       "      <th>maxplaytime</th>\n",
       "      <th>yearpublished</th>\n",
       "      <th>ranking</th>\n",
       "      <th>numberowned</th>\n",
       "      <th>type</th>\n",
       "    </tr>\n",
       "  </thead>\n",
       "  <tbody>\n",
       "    <tr>\n",
       "      <td>0</td>\n",
       "      <td>{'$oid': '5deeebff080400b768a28e7f'}</td>\n",
       "      <td>0</td>\n",
       "      <td>Shawninator</td>\n",
       "      <td>5-Minute Dungeon</td>\n",
       "      <td>7.15458</td>\n",
       "      <td>2</td>\n",
       "      <td>5</td>\n",
       "      <td>5</td>\n",
       "      <td>30</td>\n",
       "      <td>2017</td>\n",
       "      <td>678</td>\n",
       "      <td>8915</td>\n",
       "      <td>boardgame</td>\n",
       "    </tr>\n",
       "    <tr>\n",
       "      <td>1</td>\n",
       "      <td>{'$oid': '5deeebff080400b768a28e80'}</td>\n",
       "      <td>1</td>\n",
       "      <td>Shawninator</td>\n",
       "      <td>7 Wonders</td>\n",
       "      <td>7.76994</td>\n",
       "      <td>2</td>\n",
       "      <td>7</td>\n",
       "      <td>30</td>\n",
       "      <td>30</td>\n",
       "      <td>2010</td>\n",
       "      <td>48</td>\n",
       "      <td>96982</td>\n",
       "      <td>boardgame</td>\n",
       "    </tr>\n",
       "    <tr>\n",
       "      <td>2</td>\n",
       "      <td>{'$oid': '5deeebff080400b768a28e81'}</td>\n",
       "      <td>2</td>\n",
       "      <td>Shawninator</td>\n",
       "      <td>BANG!</td>\n",
       "      <td>6.51924</td>\n",
       "      <td>4</td>\n",
       "      <td>7</td>\n",
       "      <td>20</td>\n",
       "      <td>40</td>\n",
       "      <td>2002</td>\n",
       "      <td>1176</td>\n",
       "      <td>28660</td>\n",
       "      <td>boardgame</td>\n",
       "    </tr>\n",
       "    <tr>\n",
       "      <td>3</td>\n",
       "      <td>{'$oid': '5deeebff080400b768a28e82'}</td>\n",
       "      <td>3</td>\n",
       "      <td>Shawninator</td>\n",
       "      <td>BANG! The Dice Game</td>\n",
       "      <td>6.98036</td>\n",
       "      <td>3</td>\n",
       "      <td>8</td>\n",
       "      <td>15</td>\n",
       "      <td>15</td>\n",
       "      <td>2013</td>\n",
       "      <td>519</td>\n",
       "      <td>26591</td>\n",
       "      <td>boardgame</td>\n",
       "    </tr>\n",
       "    <tr>\n",
       "      <td>4</td>\n",
       "      <td>{'$oid': '5deeebff080400b768a28e83'}</td>\n",
       "      <td>4</td>\n",
       "      <td>Shawninator</td>\n",
       "      <td>Betrayal at House on the Hill</td>\n",
       "      <td>7.07081</td>\n",
       "      <td>3</td>\n",
       "      <td>6</td>\n",
       "      <td>60</td>\n",
       "      <td>60</td>\n",
       "      <td>2004</td>\n",
       "      <td>480</td>\n",
       "      <td>50039</td>\n",
       "      <td>boardgame</td>\n",
       "    </tr>\n",
       "  </tbody>\n",
       "</table>\n",
       "</div>"
      ],
      "text/plain": [
       "                                    _id  id     username  \\\n",
       "0  {'$oid': '5deeebff080400b768a28e7f'}   0  Shawninator   \n",
       "1  {'$oid': '5deeebff080400b768a28e80'}   1  Shawninator   \n",
       "2  {'$oid': '5deeebff080400b768a28e81'}   2  Shawninator   \n",
       "3  {'$oid': '5deeebff080400b768a28e82'}   3  Shawninator   \n",
       "4  {'$oid': '5deeebff080400b768a28e83'}   4  Shawninator   \n",
       "\n",
       "                            name   rating  minplayers  maxplayers  \\\n",
       "0               5-Minute Dungeon  7.15458           2           5   \n",
       "1                      7 Wonders  7.76994           2           7   \n",
       "2                          BANG!  6.51924           4           7   \n",
       "3            BANG! The Dice Game  6.98036           3           8   \n",
       "4  Betrayal at House on the Hill  7.07081           3           6   \n",
       "\n",
       "   minplaytime  maxplaytime yearpublished  ranking  numberowned       type  \n",
       "0            5           30          2017      678         8915  boardgame  \n",
       "1           30           30          2010       48        96982  boardgame  \n",
       "2           20           40          2002     1176        28660  boardgame  \n",
       "3           15           15          2013      519        26591  boardgame  \n",
       "4           60           60          2004      480        50039  boardgame  "
      ]
     },
     "execution_count": 203,
     "metadata": {},
     "output_type": "execute_result"
    }
   ],
   "source": [
    "bgg.head()"
   ]
  },
  {
   "cell_type": "code",
   "execution_count": 204,
   "metadata": {},
   "outputs": [
    {
     "data": {
      "text/html": [
       "<div>\n",
       "<style scoped>\n",
       "    .dataframe tbody tr th:only-of-type {\n",
       "        vertical-align: middle;\n",
       "    }\n",
       "\n",
       "    .dataframe tbody tr th {\n",
       "        vertical-align: top;\n",
       "    }\n",
       "\n",
       "    .dataframe thead th {\n",
       "        text-align: right;\n",
       "    }\n",
       "</style>\n",
       "<table border=\"1\" class=\"dataframe\">\n",
       "  <thead>\n",
       "    <tr style=\"text-align: right;\">\n",
       "      <th></th>\n",
       "      <th>_id</th>\n",
       "      <th>id</th>\n",
       "      <th>username</th>\n",
       "      <th>name</th>\n",
       "      <th>rating</th>\n",
       "      <th>minplayers</th>\n",
       "      <th>maxplayers</th>\n",
       "      <th>minplaytime</th>\n",
       "      <th>maxplaytime</th>\n",
       "      <th>yearpublished</th>\n",
       "      <th>ranking</th>\n",
       "      <th>numberowned</th>\n",
       "      <th>type</th>\n",
       "    </tr>\n",
       "  </thead>\n",
       "  <tbody>\n",
       "    <tr>\n",
       "      <td>148</td>\n",
       "      <td>{'$oid': '5deeebff080400b768a28f13'}</td>\n",
       "      <td>148</td>\n",
       "      <td>torisnow</td>\n",
       "      <td>Terraforming Mars</td>\n",
       "      <td>8.41542</td>\n",
       "      <td>1</td>\n",
       "      <td>5</td>\n",
       "      <td>120</td>\n",
       "      <td>120</td>\n",
       "      <td>2016</td>\n",
       "      <td>3</td>\n",
       "      <td>59898</td>\n",
       "      <td>boardgame</td>\n",
       "    </tr>\n",
       "  </tbody>\n",
       "</table>\n",
       "</div>"
      ],
      "text/plain": [
       "                                      _id   id  username               name  \\\n",
       "148  {'$oid': '5deeebff080400b768a28f13'}  148  torisnow  Terraforming Mars   \n",
       "\n",
       "      rating  minplayers  maxplayers  minplaytime  maxplaytime yearpublished  \\\n",
       "148  8.41542           1           5          120          120          2016   \n",
       "\n",
       "     ranking  numberowned       type  \n",
       "148        3        59898  boardgame  "
      ]
     },
     "execution_count": 204,
     "metadata": {},
     "output_type": "execute_result"
    }
   ],
   "source": [
    "bgg.loc[bgg.rating == max(bgg.rating)]"
   ]
  },
  {
   "cell_type": "code",
   "execution_count": 205,
   "metadata": {
    "scrolled": false
   },
   "outputs": [
    {
     "data": {
      "text/plain": [
       "<function matplotlib.pyplot.show(*args, **kw)>"
      ]
     },
     "execution_count": 205,
     "metadata": {},
     "output_type": "execute_result"
    },
    {
     "data": {
      "image/png": "[encoded data removed]",
      "text/plain": [
       "<Figure size 432x288 with 1 Axes>"
      ]
     },
     "metadata": {
      "needs_background": "light"
     },
     "output_type": "display_data"
    }
   ],
   "source": [
    "top = bgg.nlargest(10, ['rating'])\n",
    "top.plot(kind='bar', x='name', y= 'rating')\n",
    "plt.ylim((7.5,8.7))\n",
    "plt.show"
   ]
  },
  {
   "cell_type": "code",
   "execution_count": 206,
   "metadata": {},
   "outputs": [
    {
     "data": {
      "text/plain": [
       "<function matplotlib.pyplot.show(*args, **kw)>"
      ]
     },
     "execution_count": 206,
     "metadata": {},
     "output_type": "execute_result"
    },
    {
     "data": {
      "image/png": "[encoded data removed]",
      "text/plain": [
       "<Figure size 432x288 with 1 Axes>"
      ]
     },
     "metadata": {
      "needs_background": "light"
     },
     "output_type": "display_data"
    }
   ],
   "source": [
    "shawn = 0\n",
    "emma = 0\n",
    "tori = 0\n",
    "for i in bgg.username:\n",
    "    if i == 'Shawninator':\n",
    "        shawn += 1\n",
    "    if i == 'ebnoob':\n",
    "        emma += 1\n",
    "    if i == 'torisnow':\n",
    "        tori += 1\n",
    "\n",
    "user_dict = {'Shawninator': shawn, 'ebnoob': emma, 'torisnow': tori}\n",
    "\n",
    "plt.bar(range(len(user_dict)),user_dict.values())\n",
    "plt.xticks(range(len(user_dict)), list(user_dict.keys()))\n",
    "plt.show"
   ]
  },
  {
   "cell_type": "code",
   "execution_count": 207,
   "metadata": {},
   "outputs": [
    {
     "data": {
      "text/plain": [
       "<function matplotlib.pyplot.show(*args, **kw)>"
      ]
     },
     "execution_count": 207,
     "metadata": {},
     "output_type": "execute_result"
    },
    {
     "data": {
      "image/png": "[encoded data removed]",
      "text/plain": [
       "<Figure size 432x288 with 1 Axes>"
      ]
     },
     "metadata": {},
     "output_type": "display_data"
    }
   ],
   "source": [
    "shawn = 0\n",
    "emma = 0\n",
    "tori = 0\n",
    "for i in bgg.username:\n",
    "    if i == 'Shawninator':\n",
    "        shawn += 1\n",
    "    if i == 'ebnoob':\n",
    "        emma += 1\n",
    "    if i == 'torisnow':\n",
    "        tori += 1\n",
    "\n",
    "user_dict = {'Shawn': shawn, 'Emma': emma, 'Tori': tori}\n",
    "labels = user_dict.keys()\n",
    "sizes = user_dict.values()\n",
    "explode = (0.05,0.05,0.05)\n",
    "plt.pie(sizes,labels=labels, explode=explode,autopct='%1.1f%%')\n",
    "plt.axis('equal')\n",
    "plt.show"
   ]
  },
  {
   "cell_type": "code",
   "execution_count": 208,
   "metadata": {},
   "outputs": [
    {
     "data": {
      "text/plain": [
       "<function matplotlib.pyplot.show(*args, **kw)>"
      ]
     },
     "execution_count": 208,
     "metadata": {},
     "output_type": "execute_result"
    },
    {
     "data": {
      "image/png": "[encoded data removed]",
      "text/plain": [
       "<Figure size 432x288 with 1 Axes>"
      ]
     },
     "metadata": {},
     "output_type": "display_data"
    }
   ],
   "source": [
    "#2012 and 2020 don't have any games \n",
    "yr11 = 0\n",
    "yr13 = 0\n",
    "yr14 = 0\n",
    "yr15 = 0\n",
    "yr16 = 0\n",
    "yr17 = 0\n",
    "yr18 = 0\n",
    "yr19 = 0\n",
    "yr21 = 0\n",
    "for i in hot_dataframe.Year_Released:\n",
    "    if i == 2011:\n",
    "        yr11 += 1\n",
    "    if i == 2013:\n",
    "        yr13 += 1\n",
    "    if i == 2014:\n",
    "        yr14 += 1\n",
    "    if i == 2015:\n",
    "        yr15 += 1\n",
    "    if i == 2016:\n",
    "        yr16 += 1\n",
    "    if i == 2017:\n",
    "        yr17 += 1\n",
    "    if i == 2018:\n",
    "        yr18 += 1\n",
    "    if i == 2019:\n",
    "        yr19 += 1\n",
    "    if i == 2021:\n",
    "        yr21 += 1\n",
    "\n",
    "user_dict = {'2011': yr11, '2013': yr13,'2014': yr14,'2015': yr15,'2016': yr16,'2017': yr17,'2018': yr18,'2019': yr19,'2021': yr21}\n",
    "amount = user_dict.values() \n",
    "year = user_dict.keys() \n",
    "plt.pie(amount, autopct='%1.1f%%', pctdistance=1.1, shadow=True, startangle=90, radius=2.5)\n",
    "plt.legend(year, title=\"Year\",  loc=\"center right\",bbox_to_anchor=(1, 0, 1, 1))\n",
    "#plt.xticks(range(len(user_dict)), list(user_dict.keys()))\n",
    "plt.show"
   ]
  },
  {
   "cell_type": "code",
   "execution_count": 209,
   "metadata": {
    "scrolled": true
   },
   "outputs": [
    {
     "name": "stdout",
     "output_type": "stream",
     "text": [
      "['PARKS', 'Scythe', 'Disney Villainous', 'Terraforming Mars', 'Azul', '7 Wonders', 'The Castles of Burgundy']\n"
     ]
    }
   ],
   "source": [
    "comm_names = list(set(bgg.name) & set(hot_dataframe.Name))\n",
    "print(comm_names)"
   ]
  },
  {
   "cell_type": "code",
   "execution_count": 210,
   "metadata": {
    "scrolled": false
   },
   "outputs": [],
   "source": [
    "shawn_dataframe = bgg[(bgg['username'] == 'Shawninator')]\n",
    "emma_dataframe = bgg[(bgg['username'] == 'ebnoob')]\n",
    "tori_dataframe = bgg[(bgg['username'] == 'torisnow')]"
   ]
  },
  {
   "cell_type": "code",
   "execution_count": 211,
   "metadata": {},
   "outputs": [
    {
     "data": {
      "text/plain": [
       "<function matplotlib.pyplot.show(*args, **kw)>"
      ]
     },
     "execution_count": 211,
     "metadata": {},
     "output_type": "execute_result"
    },
    {
     "data": {
      "image/png": "[encoded data removed]",
      "text/plain": [
       "<Figure size 432x288 with 1 Axes>"
      ]
     },
     "metadata": {
      "needs_background": "light"
     },
     "output_type": "display_data"
    }
   ],
   "source": [
    "#comm_names = list(set(bgg.name) & set(hot_dataframe.Name))\n",
    "\n",
    "shawn = 0\n",
    "emma = 0\n",
    "tori = 0\n",
    "\n",
    "for i in shawn_dataframe.name:\n",
    "    for j in hot_dataframe.Name:\n",
    "        if i == j:\n",
    "            shawn += 1   \n",
    "            \n",
    "for i in emma_dataframe.name:\n",
    "    for j in hot_dataframe.Name:\n",
    "        if i == j:\n",
    "            emma += 1 \n",
    "            \n",
    "for i in tori_dataframe.name:\n",
    "    for j in hot_dataframe.Name:\n",
    "        if i == j:\n",
    "            tori += 1\n",
    "        \n",
    "user_dict = {'Shawn': shawn, 'Emma': emma, 'Tori': tori}\n",
    "\n",
    "plt.bar(range(len(user_dict)),user_dict.values())\n",
    "plt.xticks(range(len(user_dict)), list(user_dict.keys()))\n",
    "plt.show"
   ]
  },
  {
   "cell_type": "code",
   "execution_count": null,
   "metadata": {},
   "outputs": [],
   "source": []
  }
 ],
 "metadata": {
  "kernelspec": {
   "display_name": "Python 3",
   "language": "python",
   "name": "python3"
  },
  "language_info": {
   "codemirror_mode": {
    "name": "ipython",
    "version": 3
   },
   "file_extension": ".py",
   "mimetype": "text/x-python",
   "name": "python",
   "nbconvert_exporter": "python",
   "pygments_lexer": "ipython3",
   "version": "3.7.3"
  }
 },
 "nbformat": 4,
 "nbformat_minor": 2
}
